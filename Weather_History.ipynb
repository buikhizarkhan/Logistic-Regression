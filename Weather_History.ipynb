{
 "cells": [
  {
   "cell_type": "markdown",
   "metadata": {},
   "source": [
    "# Import Libraries"
   ]
  },
  {
   "cell_type": "code",
   "execution_count": 190,
   "metadata": {},
   "outputs": [],
   "source": [
    "import numpy as np\n",
    "import pandas as pd\n",
    "import matplotlib.pyplot as plt\n",
    "plt.style.use('ggplot')\n",
    "import seaborn as sns\n",
    "%matplotlib inline"
   ]
  },
  {
   "cell_type": "markdown",
   "metadata": {},
   "source": [
    "## Since the column names are missing so rename the columns to make them more understandable and Read the Dataset"
   ]
  },
  {
   "cell_type": "code",
   "execution_count": 189,
   "metadata": {},
   "outputs": [],
   "source": [
    "headers = ['Date', 'Summary', 'Precip_type', 'Temp_C', 'App_Temp_C', 'Humidity', \n",
    "           'Wind_Speed_km/h', 'Wind_Direction_Degrees', 'Visibility_km', 'Pressure_millibars',\n",
    "           'Daily_Summary']\n",
    "\n",
    "df = pd.read_csv('Weather_History.csv', header=None, names=headers, low_memory=False)"
   ]
  },
  {
   "cell_type": "markdown",
   "metadata": {},
   "source": [
    "## Stats of the data"
   ]
  },
  {
   "cell_type": "code",
   "execution_count": 18,
   "metadata": {},
   "outputs": [
    {
     "data": {
      "text/html": [
       "<div>\n",
       "<style scoped>\n",
       "    .dataframe tbody tr th:only-of-type {\n",
       "        vertical-align: middle;\n",
       "    }\n",
       "\n",
       "    .dataframe tbody tr th {\n",
       "        vertical-align: top;\n",
       "    }\n",
       "\n",
       "    .dataframe thead th {\n",
       "        text-align: right;\n",
       "    }\n",
       "</style>\n",
       "<table border=\"1\" class=\"dataframe\">\n",
       "  <thead>\n",
       "    <tr style=\"text-align: right;\">\n",
       "      <th></th>\n",
       "      <th>Temp_C</th>\n",
       "      <th>App_Temp_C</th>\n",
       "      <th>Humidity</th>\n",
       "      <th>Wind_Speed_km/h</th>\n",
       "      <th>Wind_Direction_Degrees</th>\n",
       "      <th>Visibility_km</th>\n",
       "      <th>Pressure_millibars</th>\n",
       "    </tr>\n",
       "  </thead>\n",
       "  <tbody>\n",
       "    <tr>\n",
       "      <th>count</th>\n",
       "      <td>96453.000000</td>\n",
       "      <td>96453.000000</td>\n",
       "      <td>96453.000000</td>\n",
       "      <td>96453.000000</td>\n",
       "      <td>96453.000000</td>\n",
       "      <td>96453.000000</td>\n",
       "      <td>96453.000000</td>\n",
       "    </tr>\n",
       "    <tr>\n",
       "      <th>mean</th>\n",
       "      <td>11.932678</td>\n",
       "      <td>10.855029</td>\n",
       "      <td>0.734899</td>\n",
       "      <td>10.810640</td>\n",
       "      <td>187.509232</td>\n",
       "      <td>10.347325</td>\n",
       "      <td>1003.235956</td>\n",
       "    </tr>\n",
       "    <tr>\n",
       "      <th>std</th>\n",
       "      <td>9.551546</td>\n",
       "      <td>10.696847</td>\n",
       "      <td>0.195473</td>\n",
       "      <td>6.913571</td>\n",
       "      <td>107.383428</td>\n",
       "      <td>4.192123</td>\n",
       "      <td>116.969906</td>\n",
       "    </tr>\n",
       "    <tr>\n",
       "      <th>min</th>\n",
       "      <td>-21.822222</td>\n",
       "      <td>-27.716667</td>\n",
       "      <td>0.000000</td>\n",
       "      <td>0.000000</td>\n",
       "      <td>0.000000</td>\n",
       "      <td>0.000000</td>\n",
       "      <td>0.000000</td>\n",
       "    </tr>\n",
       "    <tr>\n",
       "      <th>25%</th>\n",
       "      <td>4.688889</td>\n",
       "      <td>2.311111</td>\n",
       "      <td>0.600000</td>\n",
       "      <td>5.828200</td>\n",
       "      <td>116.000000</td>\n",
       "      <td>8.339800</td>\n",
       "      <td>1011.900000</td>\n",
       "    </tr>\n",
       "    <tr>\n",
       "      <th>50%</th>\n",
       "      <td>12.000000</td>\n",
       "      <td>12.000000</td>\n",
       "      <td>0.780000</td>\n",
       "      <td>9.965900</td>\n",
       "      <td>180.000000</td>\n",
       "      <td>10.046400</td>\n",
       "      <td>1016.450000</td>\n",
       "    </tr>\n",
       "    <tr>\n",
       "      <th>75%</th>\n",
       "      <td>18.838889</td>\n",
       "      <td>18.838889</td>\n",
       "      <td>0.890000</td>\n",
       "      <td>14.135800</td>\n",
       "      <td>290.000000</td>\n",
       "      <td>14.812000</td>\n",
       "      <td>1021.090000</td>\n",
       "    </tr>\n",
       "    <tr>\n",
       "      <th>max</th>\n",
       "      <td>39.905556</td>\n",
       "      <td>39.344444</td>\n",
       "      <td>1.000000</td>\n",
       "      <td>63.852600</td>\n",
       "      <td>359.000000</td>\n",
       "      <td>16.100000</td>\n",
       "      <td>1046.380000</td>\n",
       "    </tr>\n",
       "  </tbody>\n",
       "</table>\n",
       "</div>"
      ],
      "text/plain": [
       "             Temp_C    App_Temp_C      Humidity  Wind_Speed_km/h  \\\n",
       "count  96453.000000  96453.000000  96453.000000     96453.000000   \n",
       "mean      11.932678     10.855029      0.734899        10.810640   \n",
       "std        9.551546     10.696847      0.195473         6.913571   \n",
       "min      -21.822222    -27.716667      0.000000         0.000000   \n",
       "25%        4.688889      2.311111      0.600000         5.828200   \n",
       "50%       12.000000     12.000000      0.780000         9.965900   \n",
       "75%       18.838889     18.838889      0.890000        14.135800   \n",
       "max       39.905556     39.344444      1.000000        63.852600   \n",
       "\n",
       "       Wind_Direction_Degrees  Visibility_km  Pressure_millibars  \n",
       "count            96453.000000   96453.000000        96453.000000  \n",
       "mean               187.509232      10.347325         1003.235956  \n",
       "std                107.383428       4.192123          116.969906  \n",
       "min                  0.000000       0.000000            0.000000  \n",
       "25%                116.000000       8.339800         1011.900000  \n",
       "50%                180.000000      10.046400         1016.450000  \n",
       "75%                290.000000      14.812000         1021.090000  \n",
       "max                359.000000      16.100000         1046.380000  "
      ]
     },
     "execution_count": 18,
     "metadata": {},
     "output_type": "execute_result"
    }
   ],
   "source": [
    "df.describe()"
   ]
  },
  {
   "cell_type": "markdown",
   "metadata": {},
   "source": [
    "## Observing a few rows of the dataset"
   ]
  },
  {
   "cell_type": "code",
   "execution_count": 54,
   "metadata": {},
   "outputs": [
    {
     "data": {
      "text/html": [
       "<div>\n",
       "<style scoped>\n",
       "    .dataframe tbody tr th:only-of-type {\n",
       "        vertical-align: middle;\n",
       "    }\n",
       "\n",
       "    .dataframe tbody tr th {\n",
       "        vertical-align: top;\n",
       "    }\n",
       "\n",
       "    .dataframe thead th {\n",
       "        text-align: right;\n",
       "    }\n",
       "</style>\n",
       "<table border=\"1\" class=\"dataframe\">\n",
       "  <thead>\n",
       "    <tr style=\"text-align: right;\">\n",
       "      <th></th>\n",
       "      <th>Date</th>\n",
       "      <th>Summary</th>\n",
       "      <th>Precip_type</th>\n",
       "      <th>Temp_C</th>\n",
       "      <th>App_Temp_C</th>\n",
       "      <th>Humidity</th>\n",
       "      <th>Wind_Speed_km/h</th>\n",
       "      <th>Wind_Direction_Degrees</th>\n",
       "      <th>Visibility_km</th>\n",
       "      <th>Pressure_millibars</th>\n",
       "      <th>Daily_Summary</th>\n",
       "    </tr>\n",
       "  </thead>\n",
       "  <tbody>\n",
       "    <tr>\n",
       "      <th>0</th>\n",
       "      <td>2006-04-01 00:00:00.000 +0200</td>\n",
       "      <td>Partly Cloudy</td>\n",
       "      <td>rain</td>\n",
       "      <td>9.422220</td>\n",
       "      <td>7.388889</td>\n",
       "      <td>0.89</td>\n",
       "      <td>14.1197</td>\n",
       "      <td>251</td>\n",
       "      <td>15.8263</td>\n",
       "      <td>1015.13</td>\n",
       "      <td>Partly cloudy throughout the day.</td>\n",
       "    </tr>\n",
       "    <tr>\n",
       "      <th>1</th>\n",
       "      <td>2006-04-01 01:00:00.000 +0200</td>\n",
       "      <td>Partly Cloudy</td>\n",
       "      <td>rain</td>\n",
       "      <td>9.355556</td>\n",
       "      <td>7.227778</td>\n",
       "      <td>0.86</td>\n",
       "      <td>14.2646</td>\n",
       "      <td>259</td>\n",
       "      <td>15.8263</td>\n",
       "      <td>1015.63</td>\n",
       "      <td>Partly cloudy throughout the day.</td>\n",
       "    </tr>\n",
       "    <tr>\n",
       "      <th>2</th>\n",
       "      <td>2006-04-01 02:00:00.000 +0200</td>\n",
       "      <td>Mostly Cloudy</td>\n",
       "      <td>rain</td>\n",
       "      <td>9.377778</td>\n",
       "      <td>9.377778</td>\n",
       "      <td>0.89</td>\n",
       "      <td>3.9284</td>\n",
       "      <td>204</td>\n",
       "      <td>14.9569</td>\n",
       "      <td>1015.94</td>\n",
       "      <td>Partly cloudy throughout the day.</td>\n",
       "    </tr>\n",
       "    <tr>\n",
       "      <th>3</th>\n",
       "      <td>2006-04-01 03:00:00.000 +0200</td>\n",
       "      <td>Partly Cloudy</td>\n",
       "      <td>rain</td>\n",
       "      <td>8.288889</td>\n",
       "      <td>5.944444</td>\n",
       "      <td>0.83</td>\n",
       "      <td>14.1036</td>\n",
       "      <td>269</td>\n",
       "      <td>15.8263</td>\n",
       "      <td>1016.41</td>\n",
       "      <td>Partly cloudy throughout the day.</td>\n",
       "    </tr>\n",
       "    <tr>\n",
       "      <th>4</th>\n",
       "      <td>2006-04-01 04:00:00.000 +0200</td>\n",
       "      <td>Mostly Cloudy</td>\n",
       "      <td>rain</td>\n",
       "      <td>8.755556</td>\n",
       "      <td>6.977778</td>\n",
       "      <td>0.83</td>\n",
       "      <td>11.0446</td>\n",
       "      <td>259</td>\n",
       "      <td>15.8263</td>\n",
       "      <td>1016.51</td>\n",
       "      <td>Partly cloudy throughout the day.</td>\n",
       "    </tr>\n",
       "  </tbody>\n",
       "</table>\n",
       "</div>"
      ],
      "text/plain": [
       "                            Date        Summary Precip_type    Temp_C  \\\n",
       "0  2006-04-01 00:00:00.000 +0200  Partly Cloudy        rain  9.422220   \n",
       "1  2006-04-01 01:00:00.000 +0200  Partly Cloudy        rain  9.355556   \n",
       "2  2006-04-01 02:00:00.000 +0200  Mostly Cloudy        rain  9.377778   \n",
       "3  2006-04-01 03:00:00.000 +0200  Partly Cloudy        rain  8.288889   \n",
       "4  2006-04-01 04:00:00.000 +0200  Mostly Cloudy        rain  8.755556   \n",
       "\n",
       "   App_Temp_C  Humidity  Wind_Speed_km/h  Wind_Direction_Degrees  \\\n",
       "0    7.388889      0.89          14.1197                     251   \n",
       "1    7.227778      0.86          14.2646                     259   \n",
       "2    9.377778      0.89           3.9284                     204   \n",
       "3    5.944444      0.83          14.1036                     269   \n",
       "4    6.977778      0.83          11.0446                     259   \n",
       "\n",
       "   Visibility_km  Pressure_millibars                      Daily_Summary  \n",
       "0        15.8263             1015.13  Partly cloudy throughout the day.  \n",
       "1        15.8263             1015.63  Partly cloudy throughout the day.  \n",
       "2        14.9569             1015.94  Partly cloudy throughout the day.  \n",
       "3        15.8263             1016.41  Partly cloudy throughout the day.  \n",
       "4        15.8263             1016.51  Partly cloudy throughout the day.  "
      ]
     },
     "execution_count": 54,
     "metadata": {},
     "output_type": "execute_result"
    }
   ],
   "source": [
    "df.head()"
   ]
  },
  {
   "cell_type": "markdown",
   "metadata": {},
   "source": [
    "## Checking the type of data present in the dataset"
   ]
  },
  {
   "cell_type": "code",
   "execution_count": 5,
   "metadata": {},
   "outputs": [
    {
     "data": {
      "text/plain": [
       "Date                       object\n",
       "Summary                    object\n",
       "Precip_type                object\n",
       "Temp_C                    float64\n",
       "App_Temp_C                float64\n",
       "Humidity                  float64\n",
       "Wind_Speed_km/h           float64\n",
       "Wind_Direction_Degrees      int64\n",
       "Visibility_km             float64\n",
       "Pressure_millibars        float64\n",
       "Daily_Summary              object\n",
       "dtype: object"
      ]
     },
     "execution_count": 5,
     "metadata": {},
     "output_type": "execute_result"
    }
   ],
   "source": [
    "df.dtypes\n"
   ]
  },
  {
   "cell_type": "markdown",
   "metadata": {},
   "source": [
    "## Round off the values to one decimal place for ease of use"
   ]
  },
  {
   "cell_type": "code",
   "execution_count": 191,
   "metadata": {
    "scrolled": false
   },
   "outputs": [],
   "source": [
    "df = df.round({'Temp_C' : 1, 'App_Temp_C' : 1, 'Humidity' : 1, 'Wind_Speed_km/h' : 1, \n",
    "          'Visibility_km' : 1, 'Pressure_millibars' : 1})"
   ]
  },
  {
   "cell_type": "code",
   "execution_count": 5,
   "metadata": {},
   "outputs": [
    {
     "data": {
      "text/html": [
       "<div>\n",
       "<style scoped>\n",
       "    .dataframe tbody tr th:only-of-type {\n",
       "        vertical-align: middle;\n",
       "    }\n",
       "\n",
       "    .dataframe tbody tr th {\n",
       "        vertical-align: top;\n",
       "    }\n",
       "\n",
       "    .dataframe thead th {\n",
       "        text-align: right;\n",
       "    }\n",
       "</style>\n",
       "<table border=\"1\" class=\"dataframe\">\n",
       "  <thead>\n",
       "    <tr style=\"text-align: right;\">\n",
       "      <th></th>\n",
       "      <th>Date</th>\n",
       "      <th>Summary</th>\n",
       "      <th>Precip_type</th>\n",
       "      <th>Temp_C</th>\n",
       "      <th>App_Temp_C</th>\n",
       "      <th>Humidity</th>\n",
       "      <th>Wind_Speed_km/h</th>\n",
       "      <th>Wind_Direction_Degrees</th>\n",
       "      <th>Visibility_km</th>\n",
       "      <th>Pressure_millibars</th>\n",
       "      <th>Daily_Summary</th>\n",
       "    </tr>\n",
       "  </thead>\n",
       "  <tbody>\n",
       "    <tr>\n",
       "      <th>0</th>\n",
       "      <td>2006-04-01 00:00:00.000 +0200</td>\n",
       "      <td>Partly Cloudy</td>\n",
       "      <td>rain</td>\n",
       "      <td>9.4</td>\n",
       "      <td>7.4</td>\n",
       "      <td>0.9</td>\n",
       "      <td>14.1</td>\n",
       "      <td>251</td>\n",
       "      <td>15.8</td>\n",
       "      <td>1015.1</td>\n",
       "      <td>Partly cloudy throughout the day.</td>\n",
       "    </tr>\n",
       "    <tr>\n",
       "      <th>1</th>\n",
       "      <td>2006-04-01 01:00:00.000 +0200</td>\n",
       "      <td>Partly Cloudy</td>\n",
       "      <td>rain</td>\n",
       "      <td>9.4</td>\n",
       "      <td>7.2</td>\n",
       "      <td>0.9</td>\n",
       "      <td>14.3</td>\n",
       "      <td>259</td>\n",
       "      <td>15.8</td>\n",
       "      <td>1015.6</td>\n",
       "      <td>Partly cloudy throughout the day.</td>\n",
       "    </tr>\n",
       "    <tr>\n",
       "      <th>2</th>\n",
       "      <td>2006-04-01 02:00:00.000 +0200</td>\n",
       "      <td>Mostly Cloudy</td>\n",
       "      <td>rain</td>\n",
       "      <td>9.4</td>\n",
       "      <td>9.4</td>\n",
       "      <td>0.9</td>\n",
       "      <td>3.9</td>\n",
       "      <td>204</td>\n",
       "      <td>15.0</td>\n",
       "      <td>1015.9</td>\n",
       "      <td>Partly cloudy throughout the day.</td>\n",
       "    </tr>\n",
       "    <tr>\n",
       "      <th>3</th>\n",
       "      <td>2006-04-01 03:00:00.000 +0200</td>\n",
       "      <td>Partly Cloudy</td>\n",
       "      <td>rain</td>\n",
       "      <td>8.3</td>\n",
       "      <td>5.9</td>\n",
       "      <td>0.8</td>\n",
       "      <td>14.1</td>\n",
       "      <td>269</td>\n",
       "      <td>15.8</td>\n",
       "      <td>1016.4</td>\n",
       "      <td>Partly cloudy throughout the day.</td>\n",
       "    </tr>\n",
       "    <tr>\n",
       "      <th>4</th>\n",
       "      <td>2006-04-01 04:00:00.000 +0200</td>\n",
       "      <td>Mostly Cloudy</td>\n",
       "      <td>rain</td>\n",
       "      <td>8.8</td>\n",
       "      <td>7.0</td>\n",
       "      <td>0.8</td>\n",
       "      <td>11.0</td>\n",
       "      <td>259</td>\n",
       "      <td>15.8</td>\n",
       "      <td>1016.5</td>\n",
       "      <td>Partly cloudy throughout the day.</td>\n",
       "    </tr>\n",
       "  </tbody>\n",
       "</table>\n",
       "</div>"
      ],
      "text/plain": [
       "                            Date        Summary Precip_type  Temp_C  \\\n",
       "0  2006-04-01 00:00:00.000 +0200  Partly Cloudy        rain     9.4   \n",
       "1  2006-04-01 01:00:00.000 +0200  Partly Cloudy        rain     9.4   \n",
       "2  2006-04-01 02:00:00.000 +0200  Mostly Cloudy        rain     9.4   \n",
       "3  2006-04-01 03:00:00.000 +0200  Partly Cloudy        rain     8.3   \n",
       "4  2006-04-01 04:00:00.000 +0200  Mostly Cloudy        rain     8.8   \n",
       "\n",
       "   App_Temp_C  Humidity  Wind_Speed_km/h  Wind_Direction_Degrees  \\\n",
       "0         7.4       0.9             14.1                     251   \n",
       "1         7.2       0.9             14.3                     259   \n",
       "2         9.4       0.9              3.9                     204   \n",
       "3         5.9       0.8             14.1                     269   \n",
       "4         7.0       0.8             11.0                     259   \n",
       "\n",
       "   Visibility_km  Pressure_millibars                      Daily_Summary  \n",
       "0           15.8              1015.1  Partly cloudy throughout the day.  \n",
       "1           15.8              1015.6  Partly cloudy throughout the day.  \n",
       "2           15.0              1015.9  Partly cloudy throughout the day.  \n",
       "3           15.8              1016.4  Partly cloudy throughout the day.  \n",
       "4           15.8              1016.5  Partly cloudy throughout the day.  "
      ]
     },
     "execution_count": 5,
     "metadata": {},
     "output_type": "execute_result"
    }
   ],
   "source": [
    "df.head()"
   ]
  },
  {
   "cell_type": "markdown",
   "metadata": {},
   "source": [
    "## Count of categories in the Summary feature"
   ]
  },
  {
   "cell_type": "code",
   "execution_count": 20,
   "metadata": {
    "scrolled": false
   },
   "outputs": [
    {
     "data": {
      "text/plain": [
       "Partly Cloudy                          31733\n",
       "Mostly Cloudy                          28094\n",
       "Overcast                               16597\n",
       "Clear                                  10890\n",
       "Foggy                                   7148\n",
       "Breezy and Overcast                      528\n",
       "Breezy and Mostly Cloudy                 516\n",
       "Breezy and Partly Cloudy                 386\n",
       "Dry and Partly Cloudy                     86\n",
       "Windy and Partly Cloudy                   67\n",
       "Light Rain                                63\n",
       "Breezy                                    54\n",
       "Windy and Overcast                        45\n",
       "Humid and Mostly Cloudy                   40\n",
       "Drizzle                                   39\n",
       "Breezy and Foggy                          35\n",
       "Windy and Mostly Cloudy                   35\n",
       "Dry                                       34\n",
       "Humid and Partly Cloudy                   17\n",
       "Dry and Mostly Cloudy                     14\n",
       "Rain                                      10\n",
       "Windy                                      8\n",
       "Humid and Overcast                         7\n",
       "Windy and Foggy                            4\n",
       "Dangerously Windy and Partly Cloudy        1\n",
       "Windy and Dry                              1\n",
       "Breezy and Dry                             1\n",
       "Name: Summary, dtype: int64"
      ]
     },
     "execution_count": 20,
     "metadata": {},
     "output_type": "execute_result"
    }
   ],
   "source": [
    "df['Summary'].value_counts()"
   ]
  },
  {
   "cell_type": "markdown",
   "metadata": {},
   "source": [
    "## Count of the missing values"
   ]
  },
  {
   "cell_type": "code",
   "execution_count": 9,
   "metadata": {},
   "outputs": [
    {
     "data": {
      "text/plain": [
       "Date                        0\n",
       "Summary                     0\n",
       "Precip_type               522\n",
       "Temp_C                      0\n",
       "App_Temp_C                  0\n",
       "Humidity                    0\n",
       "Wind_Speed_km/h             0\n",
       "Wind_Direction_Degrees      0\n",
       "Visibility_km               0\n",
       "Pressure_millibars          0\n",
       "Daily_Summary               0\n",
       "dtype: int64"
      ]
     },
     "execution_count": 9,
     "metadata": {},
     "output_type": "execute_result"
    }
   ],
   "source": [
    "df.isnull().sum()"
   ]
  },
  {
   "cell_type": "markdown",
   "metadata": {},
   "source": [
    "## Detecting missing values using a heatmap"
   ]
  },
  {
   "cell_type": "code",
   "execution_count": 1,
   "metadata": {
    "scrolled": true
   },
   "outputs": [
    {
     "ename": "NameError",
     "evalue": "name 'sns' is not defined",
     "output_type": "error",
     "traceback": [
      "\u001b[1;31m---------------------------------------------------------------------------\u001b[0m",
      "\u001b[1;31mNameError\u001b[0m                                 Traceback (most recent call last)",
      "\u001b[1;32m<ipython-input-1-ed787517290a>\u001b[0m in \u001b[0;36m<module>\u001b[1;34m\u001b[0m\n\u001b[1;32m----> 1\u001b[1;33m \u001b[0msns\u001b[0m\u001b[1;33m.\u001b[0m\u001b[0mheatmap\u001b[0m\u001b[1;33m(\u001b[0m\u001b[0mdf\u001b[0m\u001b[1;33m.\u001b[0m\u001b[0misnull\u001b[0m\u001b[1;33m(\u001b[0m\u001b[1;33m)\u001b[0m\u001b[1;33m,\u001b[0m \u001b[0myticklabels\u001b[0m \u001b[1;33m=\u001b[0m \u001b[1;32mFalse\u001b[0m\u001b[1;33m,\u001b[0m \u001b[0mcbar\u001b[0m \u001b[1;33m=\u001b[0m \u001b[1;32mFalse\u001b[0m\u001b[1;33m)\u001b[0m\u001b[1;33m\u001b[0m\u001b[1;33m\u001b[0m\u001b[0m\n\u001b[0m",
      "\u001b[1;31mNameError\u001b[0m: name 'sns' is not defined"
     ]
    }
   ],
   "source": [
    "sns.heatmap(df.isnull(), yticklabels = False, cbar = False, cmap = 'viridis')"
   ]
  },
  {
   "cell_type": "markdown",
   "metadata": {},
   "source": [
    "## Countplot for Precip type "
   ]
  },
  {
   "cell_type": "code",
   "execution_count": 22,
   "metadata": {
    "scrolled": true
   },
   "outputs": [
    {
     "data": {
      "text/plain": [
       "<matplotlib.axes._subplots.AxesSubplot at 0x1a5285800f0>"
      ]
     },
     "execution_count": 22,
     "metadata": {},
     "output_type": "execute_result"
    },
    {
     "data": {
      "image/png": "[encoded data removed]",
      "text/plain": [
       "<Figure size 432x288 with 1 Axes>"
      ]
     },
     "metadata": {},
     "output_type": "display_data"
    }
   ],
   "source": [
    "sns.set_style('whitegrid')\n",
    "sns.countplot(x = 'Precip_type', data = df)"
   ]
  },
  {
   "cell_type": "markdown",
   "metadata": {},
   "source": [
    "# Replacing null values in Precip_type with the most frequent value"
   ]
  },
  {
   "cell_type": "code",
   "execution_count": 192,
   "metadata": {},
   "outputs": [
    {
     "data": {
      "text/plain": [
       "0"
      ]
     },
     "execution_count": 192,
     "metadata": {},
     "output_type": "execute_result"
    }
   ],
   "source": [
    "from sklearn.impute import SimpleImputer\n",
    "\n",
    "imputer = SimpleImputer(missing_values=np.nan, strategy='most_frequent')\n",
    "df['Precip_type'] = imputer.fit_transform(df[['Precip_type']])\n",
    "\n",
    "df.Precip_type.isnull().sum()"
   ]
  },
  {
   "cell_type": "markdown",
   "metadata": {},
   "source": [
    "# Distribution plot for App Temp"
   ]
  },
  {
   "cell_type": "code",
   "execution_count": 193,
   "metadata": {},
   "outputs": [
    {
     "data": {
      "text/plain": [
       "Text(0, 0.5, 'Frequency')"
      ]
     },
     "execution_count": 193,
     "metadata": {},
     "output_type": "execute_result"
    },
    {
     "data": {
      "image/png": "[encoded data removed]",
      "text/plain": [
       "<Figure size 576x360 with 1 Axes>"
      ]
     },
     "metadata": {
      "needs_background": "light"
     },
     "output_type": "display_data"
    }
   ],
   "source": [
    "df.App_Temp_C.plot(kind='hist',color='purple',edgecolor='black',figsize=(8,5))\n",
    "\n",
    "plt.title('Distribution of App Temp', size=16)\n",
    "\n",
    "plt.xlabel('App temp (C)', size=14)\n",
    "\n",
    "plt.ylabel('Frequency', size=14)"
   ]
  },
  {
   "cell_type": "code",
   "execution_count": 109,
   "metadata": {},
   "outputs": [
    {
     "data": {
      "text/plain": [
       "10.855028874173353"
      ]
     },
     "execution_count": 109,
     "metadata": {},
     "output_type": "execute_result"
    }
   ],
   "source": [
    "df.App_Temp_C.mean()"
   ]
  },
  {
   "cell_type": "markdown",
   "metadata": {},
   "source": [
    "# Distribution plot for Temp"
   ]
  },
  {
   "cell_type": "code",
   "execution_count": 7,
   "metadata": {},
   "outputs": [
    {
     "data": {
      "text/plain": [
       "Text(0, 0.5, 'Frequency')"
      ]
     },
     "execution_count": 7,
     "metadata": {},
     "output_type": "execute_result"
    },
    {
     "data": {
      "image/png": "[encoded data removed]",
      "text/plain": [
       "<Figure size 576x360 with 1 Axes>"
      ]
     },
     "metadata": {
      "needs_background": "light"
     },
     "output_type": "display_data"
    }
   ],
   "source": [
    "df.Temp_C.plot(kind='hist',color='orange',edgecolor='black',figsize=(8,5))\n",
    "\n",
    "plt.title('Distribution of Temp', size=15)\n",
    "\n",
    "plt.xlabel('Temp (C)', size=13)\n",
    "\n",
    "plt.ylabel('Frequency', size=13)"
   ]
  },
  {
   "cell_type": "code",
   "execution_count": 107,
   "metadata": {},
   "outputs": [
    {
     "data": {
      "text/plain": [
       "11.932677919109635"
      ]
     },
     "execution_count": 107,
     "metadata": {},
     "output_type": "execute_result"
    }
   ],
   "source": [
    "df.Temp_C.mean()"
   ]
  },
  {
   "cell_type": "markdown",
   "metadata": {},
   "source": [
    "## Distribution plot for Humidity"
   ]
  },
  {
   "cell_type": "code",
   "execution_count": 194,
   "metadata": {
    "scrolled": true
   },
   "outputs": [
    {
     "data": {
      "text/plain": [
       "<matplotlib.axes._subplots.AxesSubplot at 0x1a534719550>"
      ]
     },
     "execution_count": 194,
     "metadata": {},
     "output_type": "execute_result"
    },
    {
     "data": {
      "image/png": "[encoded data removed]",
      "text/plain": [
       "<Figure size 432x288 with 1 Axes>"
      ]
     },
     "metadata": {
      "needs_background": "light"
     },
     "output_type": "display_data"
    }
   ],
   "source": [
    "sns.distplot(df.Humidity.dropna())"
   ]
  },
  {
   "cell_type": "code",
   "execution_count": 10,
   "metadata": {},
   "outputs": [
    {
     "data": {
      "text/plain": [
       "0.7348262884516326"
      ]
     },
     "execution_count": 10,
     "metadata": {},
     "output_type": "execute_result"
    }
   ],
   "source": [
    "df.Humidity.mean()"
   ]
  },
  {
   "cell_type": "markdown",
   "metadata": {},
   "source": [
    "# Histogram of Precip type (rain and snow)"
   ]
  },
  {
   "cell_type": "code",
   "execution_count": 31,
   "metadata": {},
   "outputs": [
    {
     "data": {
      "text/plain": [
       "Text(0, 0.5, 'Frequency')"
      ]
     },
     "execution_count": 31,
     "metadata": {},
     "output_type": "execute_result"
    },
    {
     "data": {
      "image/png": "[encoded data removed]",
      "text/plain": [
       "<Figure size 576x360 with 1 Axes>"
      ]
     },
     "metadata": {},
     "output_type": "display_data"
    }
   ],
   "source": [
    "df[df['Precip_type']=='rain'].App_Temp_C.plot(kind='hist',color='blue',edgecolor='black',alpha=0.5,figsize=(8,5))\n",
    "\n",
    "df[df['Precip_type']=='snow'].App_Temp_C.plot(kind='hist',color='magenta',edgecolor='black',alpha=0.5,figsize=(8,5))\n",
    "\n",
    "plt.legend(labels=['rain','snow'])\n",
    "\n",
    "plt.title('Distribution of App Temp', size=15)\n",
    "\n",
    "plt.xlabel('App Temp (C)', size=13)\n",
    "\n",
    "plt.ylabel('Frequency', size=13)"
   ]
  },
  {
   "cell_type": "markdown",
   "metadata": {},
   "source": [
    "## Histograms of features"
   ]
  },
  {
   "cell_type": "code",
   "execution_count": 27,
   "metadata": {},
   "outputs": [
    {
     "data": {
      "text/plain": [
       "array([[<matplotlib.axes._subplots.AxesSubplot object at 0x000001A528AE8748>,\n",
       "        <matplotlib.axes._subplots.AxesSubplot object at 0x000001A528B04AC8>,\n",
       "        <matplotlib.axes._subplots.AxesSubplot object at 0x000001A528B3E4A8>],\n",
       "       [<matplotlib.axes._subplots.AxesSubplot object at 0x000001A528B6BE48>,\n",
       "        <matplotlib.axes._subplots.AxesSubplot object at 0x000001A528BA4828>,\n",
       "        <matplotlib.axes._subplots.AxesSubplot object at 0x000001A528BE0208>],\n",
       "       [<matplotlib.axes._subplots.AxesSubplot object at 0x000001A528C0A7F0>,\n",
       "        <matplotlib.axes._subplots.AxesSubplot object at 0x000001A527BC4208>,\n",
       "        <matplotlib.axes._subplots.AxesSubplot object at 0x000001A527BC4240>]],\n",
       "      dtype=object)"
      ]
     },
     "execution_count": 27,
     "metadata": {},
     "output_type": "execute_result"
    },
    {
     "data": {
      "image/png": "[encoded data removed]",
      "text/plain": [
       "<Figure size 576x576 with 9 Axes>"
      ]
     },
     "metadata": {},
     "output_type": "display_data"
    }
   ],
   "source": [
    "from pylab import rcParams\n",
    "rcParams['figure.figsize'] = 8, 8\n",
    "df.hist()"
   ]
  },
  {
   "cell_type": "markdown",
   "metadata": {},
   "source": [
    "## Correlation of features"
   ]
  },
  {
   "cell_type": "code",
   "execution_count": 12,
   "metadata": {},
   "outputs": [
    {
     "data": {
      "text/html": [
       "<div>\n",
       "<style scoped>\n",
       "    .dataframe tbody tr th:only-of-type {\n",
       "        vertical-align: middle;\n",
       "    }\n",
       "\n",
       "    .dataframe tbody tr th {\n",
       "        vertical-align: top;\n",
       "    }\n",
       "\n",
       "    .dataframe thead th {\n",
       "        text-align: right;\n",
       "    }\n",
       "</style>\n",
       "<table border=\"1\" class=\"dataframe\">\n",
       "  <thead>\n",
       "    <tr style=\"text-align: right;\">\n",
       "      <th></th>\n",
       "      <th>Temp_C</th>\n",
       "      <th>App_Temp_C</th>\n",
       "      <th>Humidity</th>\n",
       "      <th>Wind_Speed_km/h</th>\n",
       "      <th>Wind_Direction_Degrees</th>\n",
       "      <th>Visibility_km</th>\n",
       "      <th>Pressure_millibars</th>\n",
       "    </tr>\n",
       "  </thead>\n",
       "  <tbody>\n",
       "    <tr>\n",
       "      <th>Temp_C</th>\n",
       "      <td>1.000000</td>\n",
       "      <td>0.992623</td>\n",
       "      <td>-0.625184</td>\n",
       "      <td>0.008967</td>\n",
       "      <td>0.029972</td>\n",
       "      <td>0.393802</td>\n",
       "      <td>-0.005441</td>\n",
       "    </tr>\n",
       "    <tr>\n",
       "      <th>App_Temp_C</th>\n",
       "      <td>0.992623</td>\n",
       "      <td>1.000000</td>\n",
       "      <td>-0.595759</td>\n",
       "      <td>-0.056648</td>\n",
       "      <td>0.029017</td>\n",
       "      <td>0.382641</td>\n",
       "      <td>-0.000220</td>\n",
       "    </tr>\n",
       "    <tr>\n",
       "      <th>Humidity</th>\n",
       "      <td>-0.625184</td>\n",
       "      <td>-0.595759</td>\n",
       "      <td>1.000000</td>\n",
       "      <td>-0.223061</td>\n",
       "      <td>0.000057</td>\n",
       "      <td>-0.367504</td>\n",
       "      <td>0.006912</td>\n",
       "    </tr>\n",
       "    <tr>\n",
       "      <th>Wind_Speed_km/h</th>\n",
       "      <td>0.008967</td>\n",
       "      <td>-0.056648</td>\n",
       "      <td>-0.223061</td>\n",
       "      <td>1.000000</td>\n",
       "      <td>0.103799</td>\n",
       "      <td>0.100959</td>\n",
       "      <td>-0.049275</td>\n",
       "    </tr>\n",
       "    <tr>\n",
       "      <th>Wind_Direction_Degrees</th>\n",
       "      <td>0.029972</td>\n",
       "      <td>0.029017</td>\n",
       "      <td>0.000057</td>\n",
       "      <td>0.103799</td>\n",
       "      <td>1.000000</td>\n",
       "      <td>0.047602</td>\n",
       "      <td>-0.011652</td>\n",
       "    </tr>\n",
       "    <tr>\n",
       "      <th>Visibility_km</th>\n",
       "      <td>0.393802</td>\n",
       "      <td>0.382641</td>\n",
       "      <td>-0.367504</td>\n",
       "      <td>0.100959</td>\n",
       "      <td>0.047602</td>\n",
       "      <td>1.000000</td>\n",
       "      <td>0.059824</td>\n",
       "    </tr>\n",
       "    <tr>\n",
       "      <th>Pressure_millibars</th>\n",
       "      <td>-0.005441</td>\n",
       "      <td>-0.000220</td>\n",
       "      <td>0.006912</td>\n",
       "      <td>-0.049275</td>\n",
       "      <td>-0.011652</td>\n",
       "      <td>0.059824</td>\n",
       "      <td>1.000000</td>\n",
       "    </tr>\n",
       "  </tbody>\n",
       "</table>\n",
       "</div>"
      ],
      "text/plain": [
       "                          Temp_C  App_Temp_C  Humidity  Wind_Speed_km/h  \\\n",
       "Temp_C                  1.000000    0.992623 -0.625184         0.008967   \n",
       "App_Temp_C              0.992623    1.000000 -0.595759        -0.056648   \n",
       "Humidity               -0.625184   -0.595759  1.000000        -0.223061   \n",
       "Wind_Speed_km/h         0.008967   -0.056648 -0.223061         1.000000   \n",
       "Wind_Direction_Degrees  0.029972    0.029017  0.000057         0.103799   \n",
       "Visibility_km           0.393802    0.382641 -0.367504         0.100959   \n",
       "Pressure_millibars     -0.005441   -0.000220  0.006912        -0.049275   \n",
       "\n",
       "                        Wind_Direction_Degrees  Visibility_km  \\\n",
       "Temp_C                                0.029972       0.393802   \n",
       "App_Temp_C                            0.029017       0.382641   \n",
       "Humidity                              0.000057      -0.367504   \n",
       "Wind_Speed_km/h                       0.103799       0.100959   \n",
       "Wind_Direction_Degrees                1.000000       0.047602   \n",
       "Visibility_km                         0.047602       1.000000   \n",
       "Pressure_millibars                   -0.011652       0.059824   \n",
       "\n",
       "                        Pressure_millibars  \n",
       "Temp_C                           -0.005441  \n",
       "App_Temp_C                       -0.000220  \n",
       "Humidity                          0.006912  \n",
       "Wind_Speed_km/h                  -0.049275  \n",
       "Wind_Direction_Degrees           -0.011652  \n",
       "Visibility_km                     0.059824  \n",
       "Pressure_millibars                1.000000  "
      ]
     },
     "execution_count": 12,
     "metadata": {},
     "output_type": "execute_result"
    }
   ],
   "source": [
    "corr= df.corr()\n",
    "corr"
   ]
  },
  {
   "cell_type": "markdown",
   "metadata": {},
   "source": [
    "## Visualization of correlation using a heatmap"
   ]
  },
  {
   "cell_type": "code",
   "execution_count": 66,
   "metadata": {
    "scrolled": false
   },
   "outputs": [
    {
     "data": {
      "text/plain": [
       "<matplotlib.axes._subplots.AxesSubplot at 0x2b3f9bf8cc0>"
      ]
     },
     "execution_count": 66,
     "metadata": {},
     "output_type": "execute_result"
    },
    {
     "data": {
      "image/png": "[encoded data removed]",
      "text/plain": [
       "<Figure size 432x288 with 2 Axes>"
      ]
     },
     "metadata": {
      "needs_background": "light"
     },
     "output_type": "display_data"
    }
   ],
   "source": [
    "sns.heatmap(corr)"
   ]
  },
  {
   "cell_type": "markdown",
   "metadata": {},
   "source": [
    "## Extracting those features that have a correlation > 0.1 with App Temp"
   ]
  },
  {
   "cell_type": "code",
   "execution_count": 32,
   "metadata": {
    "scrolled": true
   },
   "outputs": [
    {
     "data": {
      "text/plain": [
       "Temp_C           0.992623\n",
       "App_Temp_C       1.000000\n",
       "Humidity        -0.595759\n",
       "Visibility_km    0.382641\n",
       "Name: App_Temp_C, dtype: float64"
      ]
     },
     "execution_count": 32,
     "metadata": {},
     "output_type": "execute_result"
    }
   ],
   "source": [
    "corr['App_Temp_C'][abs(corr['App_Temp_C']) > 0.1]"
   ]
  },
  {
   "cell_type": "markdown",
   "metadata": {},
   "source": [
    "# Dropping the unwanted features"
   ]
  },
  {
   "cell_type": "code",
   "execution_count": 195,
   "metadata": {},
   "outputs": [],
   "source": [
    "df = df.drop(columns = ['Wind_Speed_km/h', 'Wind_Direction_Degrees', 'Visibility_km', 'Pressure_millibars',\n",
    "                  'Daily_Summary', 'Summary', 'Date'], axis = 1)"
   ]
  },
  {
   "cell_type": "markdown",
   "metadata": {},
   "source": [
    "## Visual representation of App temp with Precip type"
   ]
  },
  {
   "cell_type": "code",
   "execution_count": 196,
   "metadata": {},
   "outputs": [
    {
     "data": {
      "text/plain": [
       "<matplotlib.axes._subplots.AxesSubplot at 0x1a534a2e2b0>"
      ]
     },
     "execution_count": 196,
     "metadata": {},
     "output_type": "execute_result"
    },
    {
     "data": {
      "image/png": "[encoded data removed]",
      "text/plain": [
       "<Figure size 432x288 with 1 Axes>"
      ]
     },
     "metadata": {
      "needs_background": "light"
     },
     "output_type": "display_data"
    }
   ],
   "source": [
    "sns.violinplot(x = 'Precip_type', y = 'App_Temp_C', data = df)"
   ]
  },
  {
   "cell_type": "markdown",
   "metadata": {},
   "source": [
    "## Visual representation of Humidity with Precip type"
   ]
  },
  {
   "cell_type": "code",
   "execution_count": 197,
   "metadata": {
    "scrolled": false
   },
   "outputs": [
    {
     "data": {
      "text/plain": [
       "<matplotlib.axes._subplots.AxesSubplot at 0x1a52aea6208>"
      ]
     },
     "execution_count": 197,
     "metadata": {},
     "output_type": "execute_result"
    },
    {
     "data": {
      "image/png": "[encoded data removed]",
      "text/plain": [
       "<Figure size 432x288 with 1 Axes>"
      ]
     },
     "metadata": {
      "needs_background": "light"
     },
     "output_type": "display_data"
    }
   ],
   "source": [
    "sns.violinplot(x = 'Precip_type', y = 'Humidity', data = df)"
   ]
  },
  {
   "cell_type": "markdown",
   "metadata": {},
   "source": [
    "## Detecting outliers with a boxplot"
   ]
  },
  {
   "cell_type": "code",
   "execution_count": 198,
   "metadata": {},
   "outputs": [
    {
     "data": {
      "text/plain": [
       "Text(0.5, 1.0, 'Outliers')"
      ]
     },
     "execution_count": 198,
     "metadata": {},
     "output_type": "execute_result"
    },
    {
     "data": {
      "image/png": "[encoded data removed]",
      "text/plain": [
       "<Figure size 432x288 with 1 Axes>"
      ]
     },
     "metadata": {
      "needs_background": "light"
     },
     "output_type": "display_data"
    }
   ],
   "source": [
    "sns.boxplot(df.Humidity).set_title('Outliers')"
   ]
  },
  {
   "cell_type": "markdown",
   "metadata": {},
   "source": [
    "## Removing outliers"
   ]
  },
  {
   "cell_type": "code",
   "execution_count": 188,
   "metadata": {},
   "outputs": [
    {
     "data": {
      "text/plain": [
       "Text(0.5, 1.0, 'Without_Outliers')"
      ]
     },
     "execution_count": 188,
     "metadata": {},
     "output_type": "execute_result"
    },
    {
     "data": {
      "image/png": "[encoded data removed]",
      "text/plain": [
       "<Figure size 432x288 with 1 Axes>"
      ]
     },
     "metadata": {
      "needs_background": "light"
     },
     "output_type": "display_data"
    }
   ],
   "source": [
    "df = df[df.Humidity>=0.2]\n",
    "sns.boxplot(df.Humidity).set_title('Without_Outliers')"
   ]
  },
  {
   "cell_type": "markdown",
   "metadata": {},
   "source": [
    "## Relationship between AppTemp and Humidity "
   ]
  },
  {
   "cell_type": "code",
   "execution_count": 182,
   "metadata": {
    "scrolled": true
   },
   "outputs": [
    {
     "data": {
      "text/plain": [
       "<matplotlib.axes._subplots.AxesSubplot at 0x1a52a3ac668>"
      ]
     },
     "execution_count": 182,
     "metadata": {},
     "output_type": "execute_result"
    },
    {
     "data": {
      "image/png": "[encoded data removed]",
      "text/plain": [
       "<Figure size 432x288 with 1 Axes>"
      ]
     },
     "metadata": {
      "needs_background": "light"
     },
     "output_type": "display_data"
    }
   ],
   "source": [
    "sns.lineplot(df.Humidity, df.App_Temp_C)"
   ]
  },
  {
   "cell_type": "markdown",
   "metadata": {},
   "source": [
    "# Correlation between Temp and App Temp"
   ]
  },
  {
   "cell_type": "code",
   "execution_count": 40,
   "metadata": {},
   "outputs": [
    {
     "data": {
      "text/plain": [
       "Text(0, 0.5, 'App_Temp_C')"
      ]
     },
     "execution_count": 40,
     "metadata": {},
     "output_type": "execute_result"
    },
    {
     "data": {
      "image/png": "[encoded data removed]",
      "text/plain": [
       "<Figure size 576x360 with 1 Axes>"
      ]
     },
     "metadata": {},
     "output_type": "display_data"
    }
   ],
   "source": [
    "ax1= df[df['Precip_type']=='rain'].plot(kind='scatter', x='Temp_C',y='App_Temp_C', color='blue',alpha=0.5, figsize=(8,5))\n",
    "\n",
    "df[df['Precip_type']=='snow'].plot(kind='scatter', x='Temp_C',y='App_Temp_C', color='magenta',alpha=0.5, figsize=(8,5),ax=ax1)\n",
    "\n",
    "plt.legend(labels=['rain','snow'])\n",
    "\n",
    "plt.title('Relationship between Temp and App Temp', size=15)\n",
    "\n",
    "plt.xlabel('App_Temp_C', size=13)\n",
    "\n",
    "plt.ylabel('App_Temp_C', size=13)"
   ]
  },
  {
   "cell_type": "markdown",
   "metadata": {},
   "source": [
    "# Encoding Precip_type using One Hot Encoding"
   ]
  },
  {
   "cell_type": "code",
   "execution_count": 41,
   "metadata": {},
   "outputs": [
    {
     "data": {
      "text/html": [
       "<div>\n",
       "<style scoped>\n",
       "    .dataframe tbody tr th:only-of-type {\n",
       "        vertical-align: middle;\n",
       "    }\n",
       "\n",
       "    .dataframe tbody tr th {\n",
       "        vertical-align: top;\n",
       "    }\n",
       "\n",
       "    .dataframe thead th {\n",
       "        text-align: right;\n",
       "    }\n",
       "</style>\n",
       "<table border=\"1\" class=\"dataframe\">\n",
       "  <thead>\n",
       "    <tr style=\"text-align: right;\">\n",
       "      <th></th>\n",
       "      <th>rain</th>\n",
       "      <th>snow</th>\n",
       "    </tr>\n",
       "  </thead>\n",
       "  <tbody>\n",
       "    <tr>\n",
       "      <th>0</th>\n",
       "      <td>1</td>\n",
       "      <td>0</td>\n",
       "    </tr>\n",
       "    <tr>\n",
       "      <th>1</th>\n",
       "      <td>1</td>\n",
       "      <td>0</td>\n",
       "    </tr>\n",
       "    <tr>\n",
       "      <th>2</th>\n",
       "      <td>1</td>\n",
       "      <td>0</td>\n",
       "    </tr>\n",
       "    <tr>\n",
       "      <th>3</th>\n",
       "      <td>1</td>\n",
       "      <td>0</td>\n",
       "    </tr>\n",
       "    <tr>\n",
       "      <th>4</th>\n",
       "      <td>1</td>\n",
       "      <td>0</td>\n",
       "    </tr>\n",
       "  </tbody>\n",
       "</table>\n",
       "</div>"
      ],
      "text/plain": [
       "   rain  snow\n",
       "0     1     0\n",
       "1     1     0\n",
       "2     1     0\n",
       "3     1     0\n",
       "4     1     0"
      ]
     },
     "execution_count": 41,
     "metadata": {},
     "output_type": "execute_result"
    }
   ],
   "source": [
    "Dummies = pd.get_dummies(df.Precip_type)\n",
    "Dummies.head()"
   ]
  },
  {
   "cell_type": "markdown",
   "metadata": {},
   "source": [
    "# Merging the two dataframes"
   ]
  },
  {
   "cell_type": "code",
   "execution_count": 42,
   "metadata": {},
   "outputs": [
    {
     "data": {
      "text/html": [
       "<div>\n",
       "<style scoped>\n",
       "    .dataframe tbody tr th:only-of-type {\n",
       "        vertical-align: middle;\n",
       "    }\n",
       "\n",
       "    .dataframe tbody tr th {\n",
       "        vertical-align: top;\n",
       "    }\n",
       "\n",
       "    .dataframe thead th {\n",
       "        text-align: right;\n",
       "    }\n",
       "</style>\n",
       "<table border=\"1\" class=\"dataframe\">\n",
       "  <thead>\n",
       "    <tr style=\"text-align: right;\">\n",
       "      <th></th>\n",
       "      <th>Precip_type</th>\n",
       "      <th>Temp_C</th>\n",
       "      <th>App_Temp_C</th>\n",
       "      <th>Humidity</th>\n",
       "      <th>rain</th>\n",
       "      <th>snow</th>\n",
       "    </tr>\n",
       "  </thead>\n",
       "  <tbody>\n",
       "    <tr>\n",
       "      <th>0</th>\n",
       "      <td>rain</td>\n",
       "      <td>9.4</td>\n",
       "      <td>7.4</td>\n",
       "      <td>0.9</td>\n",
       "      <td>1</td>\n",
       "      <td>0</td>\n",
       "    </tr>\n",
       "    <tr>\n",
       "      <th>1</th>\n",
       "      <td>rain</td>\n",
       "      <td>9.4</td>\n",
       "      <td>7.2</td>\n",
       "      <td>0.9</td>\n",
       "      <td>1</td>\n",
       "      <td>0</td>\n",
       "    </tr>\n",
       "    <tr>\n",
       "      <th>2</th>\n",
       "      <td>rain</td>\n",
       "      <td>9.4</td>\n",
       "      <td>9.4</td>\n",
       "      <td>0.9</td>\n",
       "      <td>1</td>\n",
       "      <td>0</td>\n",
       "    </tr>\n",
       "    <tr>\n",
       "      <th>3</th>\n",
       "      <td>rain</td>\n",
       "      <td>8.3</td>\n",
       "      <td>5.9</td>\n",
       "      <td>0.8</td>\n",
       "      <td>1</td>\n",
       "      <td>0</td>\n",
       "    </tr>\n",
       "    <tr>\n",
       "      <th>4</th>\n",
       "      <td>rain</td>\n",
       "      <td>8.8</td>\n",
       "      <td>7.0</td>\n",
       "      <td>0.8</td>\n",
       "      <td>1</td>\n",
       "      <td>0</td>\n",
       "    </tr>\n",
       "  </tbody>\n",
       "</table>\n",
       "</div>"
      ],
      "text/plain": [
       "  Precip_type  Temp_C  App_Temp_C  Humidity  rain  snow\n",
       "0        rain     9.4         7.4       0.9     1     0\n",
       "1        rain     9.4         7.2       0.9     1     0\n",
       "2        rain     9.4         9.4       0.9     1     0\n",
       "3        rain     8.3         5.9       0.8     1     0\n",
       "4        rain     8.8         7.0       0.8     1     0"
      ]
     },
     "execution_count": 42,
     "metadata": {},
     "output_type": "execute_result"
    }
   ],
   "source": [
    "merged = pd.concat([df, Dummies], axis = 'columns')\n",
    "merged.head()"
   ]
  },
  {
   "cell_type": "markdown",
   "metadata": {},
   "source": [
    "# Dropping Precip_type and snow to avoid dummy variable trap"
   ]
  },
  {
   "cell_type": "code",
   "execution_count": 43,
   "metadata": {},
   "outputs": [
    {
     "data": {
      "text/html": [
       "<div>\n",
       "<style scoped>\n",
       "    .dataframe tbody tr th:only-of-type {\n",
       "        vertical-align: middle;\n",
       "    }\n",
       "\n",
       "    .dataframe tbody tr th {\n",
       "        vertical-align: top;\n",
       "    }\n",
       "\n",
       "    .dataframe thead th {\n",
       "        text-align: right;\n",
       "    }\n",
       "</style>\n",
       "<table border=\"1\" class=\"dataframe\">\n",
       "  <thead>\n",
       "    <tr style=\"text-align: right;\">\n",
       "      <th></th>\n",
       "      <th>Temp_C</th>\n",
       "      <th>App_Temp_C</th>\n",
       "      <th>Humidity</th>\n",
       "      <th>rain</th>\n",
       "    </tr>\n",
       "  </thead>\n",
       "  <tbody>\n",
       "    <tr>\n",
       "      <th>0</th>\n",
       "      <td>9.4</td>\n",
       "      <td>7.4</td>\n",
       "      <td>0.9</td>\n",
       "      <td>1</td>\n",
       "    </tr>\n",
       "    <tr>\n",
       "      <th>1</th>\n",
       "      <td>9.4</td>\n",
       "      <td>7.2</td>\n",
       "      <td>0.9</td>\n",
       "      <td>1</td>\n",
       "    </tr>\n",
       "    <tr>\n",
       "      <th>2</th>\n",
       "      <td>9.4</td>\n",
       "      <td>9.4</td>\n",
       "      <td>0.9</td>\n",
       "      <td>1</td>\n",
       "    </tr>\n",
       "    <tr>\n",
       "      <th>3</th>\n",
       "      <td>8.3</td>\n",
       "      <td>5.9</td>\n",
       "      <td>0.8</td>\n",
       "      <td>1</td>\n",
       "    </tr>\n",
       "    <tr>\n",
       "      <th>4</th>\n",
       "      <td>8.8</td>\n",
       "      <td>7.0</td>\n",
       "      <td>0.8</td>\n",
       "      <td>1</td>\n",
       "    </tr>\n",
       "  </tbody>\n",
       "</table>\n",
       "</div>"
      ],
      "text/plain": [
       "   Temp_C  App_Temp_C  Humidity  rain\n",
       "0     9.4         7.4       0.9     1\n",
       "1     9.4         7.2       0.9     1\n",
       "2     9.4         9.4       0.9     1\n",
       "3     8.3         5.9       0.8     1\n",
       "4     8.8         7.0       0.8     1"
      ]
     },
     "execution_count": 43,
     "metadata": {},
     "output_type": "execute_result"
    }
   ],
   "source": [
    "final = merged.drop(['Precip_type', 'snow'], axis = 'columns')\n",
    "final.head()"
   ]
  },
  {
   "cell_type": "markdown",
   "metadata": {},
   "source": [
    "## Relationship between Temp and Humidity "
   ]
  },
  {
   "cell_type": "code",
   "execution_count": 45,
   "metadata": {
    "scrolled": false
   },
   "outputs": [
    {
     "data": {
      "text/plain": [
       "<matplotlib.axes._subplots.AxesSubplot at 0x1a52770f6a0>"
      ]
     },
     "execution_count": 45,
     "metadata": {},
     "output_type": "execute_result"
    },
    {
     "data": {
      "image/png": "[encoded data removed]",
      "text/plain": [
       "<Figure size 576x576 with 1 Axes>"
      ]
     },
     "metadata": {},
     "output_type": "display_data"
    }
   ],
   "source": [
    "sns.lineplot(df.Humidity, df.Temp_C)"
   ]
  },
  {
   "cell_type": "markdown",
   "metadata": {},
   "source": [
    "# Creating correlation matrix"
   ]
  },
  {
   "cell_type": "code",
   "execution_count": 46,
   "metadata": {},
   "outputs": [
    {
     "data": {
      "text/html": [
       "<div>\n",
       "<style scoped>\n",
       "    .dataframe tbody tr th:only-of-type {\n",
       "        vertical-align: middle;\n",
       "    }\n",
       "\n",
       "    .dataframe tbody tr th {\n",
       "        vertical-align: top;\n",
       "    }\n",
       "\n",
       "    .dataframe thead th {\n",
       "        text-align: right;\n",
       "    }\n",
       "</style>\n",
       "<table border=\"1\" class=\"dataframe\">\n",
       "  <thead>\n",
       "    <tr style=\"text-align: right;\">\n",
       "      <th></th>\n",
       "      <th>Temp_C</th>\n",
       "      <th>App_Temp_C</th>\n",
       "      <th>Humidity</th>\n",
       "      <th>rain</th>\n",
       "    </tr>\n",
       "  </thead>\n",
       "  <tbody>\n",
       "    <tr>\n",
       "      <th>Temp_C</th>\n",
       "      <td>1.000000</td>\n",
       "      <td>0.992626</td>\n",
       "      <td>-0.628879</td>\n",
       "      <td>0.561902</td>\n",
       "    </tr>\n",
       "    <tr>\n",
       "      <th>App_Temp_C</th>\n",
       "      <td>0.992626</td>\n",
       "      <td>1.000000</td>\n",
       "      <td>-0.599387</td>\n",
       "      <td>0.564510</td>\n",
       "    </tr>\n",
       "    <tr>\n",
       "      <th>Humidity</th>\n",
       "      <td>-0.628879</td>\n",
       "      <td>-0.599387</td>\n",
       "      <td>1.000000</td>\n",
       "      <td>-0.233054</td>\n",
       "    </tr>\n",
       "    <tr>\n",
       "      <th>rain</th>\n",
       "      <td>0.561902</td>\n",
       "      <td>0.564510</td>\n",
       "      <td>-0.233054</td>\n",
       "      <td>1.000000</td>\n",
       "    </tr>\n",
       "  </tbody>\n",
       "</table>\n",
       "</div>"
      ],
      "text/plain": [
       "              Temp_C  App_Temp_C  Humidity      rain\n",
       "Temp_C      1.000000    0.992626 -0.628879  0.561902\n",
       "App_Temp_C  0.992626    1.000000 -0.599387  0.564510\n",
       "Humidity   -0.628879   -0.599387  1.000000 -0.233054\n",
       "rain        0.561902    0.564510 -0.233054  1.000000"
      ]
     },
     "execution_count": 46,
     "metadata": {},
     "output_type": "execute_result"
    }
   ],
   "source": [
    "cor = final.corr()\n",
    "cor"
   ]
  },
  {
   "cell_type": "markdown",
   "metadata": {},
   "source": [
    "# To calculate VIF of each IV, we need to ignore the real DV and make each IV our target feature. Thus we perform Auxillary Regression for Temp_C"
   ]
  },
  {
   "cell_type": "code",
   "execution_count": 47,
   "metadata": {
    "scrolled": false
   },
   "outputs": [
    {
     "name": "stdout",
     "output_type": "stream",
     "text": [
      "r2 is 0.5783816949435683\n",
      "vif is 2.371813528983649\n"
     ]
    }
   ],
   "source": [
    "from sklearn.model_selection import train_test_split\n",
    "feature_names = ['Humidity', 'rain']\n",
    "X = final[feature_names]\n",
    "y = final['Temp_C']\n",
    "X_train, X_test, y_train, y_test = train_test_split(X, y, test_size = 0.3, random_state = 100)\n",
    "from sklearn.linear_model import LinearRegression\n",
    "model = LinearRegression()\n",
    "model.fit(X_train, y_train)\n",
    "ytest_predict = model.predict(X_test)\n",
    "from sklearn.metrics import r2_score\n",
    "r2 = r2_score(y_test, ytest_predict)\n",
    "print('r2 is', r2)\n",
    "vif = 1 / (1 - r2)\n",
    "print('vif is', vif)"
   ]
  },
  {
   "cell_type": "markdown",
   "metadata": {},
   "source": [
    "# Auxillary Regression for Humidity"
   ]
  },
  {
   "cell_type": "code",
   "execution_count": 48,
   "metadata": {},
   "outputs": [
    {
     "name": "stdout",
     "output_type": "stream",
     "text": [
      "r2 is 0.41764150724298077\n",
      "vif is 1.7171553475004198\n"
     ]
    }
   ],
   "source": [
    "from sklearn.model_selection import train_test_split\n",
    "feature_names = ['Temp_C', 'rain']\n",
    "X = final[feature_names]\n",
    "y = final['Humidity']\n",
    "X_train, X_test, y_train, y_test = train_test_split(X, y, test_size = 0.3, random_state = 100)\n",
    "from sklearn.linear_model import LinearRegression\n",
    "model = LinearRegression()\n",
    "model.fit(X_train, y_train)\n",
    "ytest_predict = model.predict(X_test)\n",
    "from sklearn.metrics import r2_score\n",
    "r2 = r2_score(y_test, ytest_predict)\n",
    "print('r2 is', r2)\n",
    "vif = 1 / (1 - r2)\n",
    "print('vif is', vif)"
   ]
  },
  {
   "cell_type": "markdown",
   "metadata": {},
   "source": [
    "# Auxillary Regression for rain"
   ]
  },
  {
   "cell_type": "code",
   "execution_count": 49,
   "metadata": {},
   "outputs": [
    {
     "name": "stdout",
     "output_type": "stream",
     "text": [
      "r2 is 0.33899432111876826\n",
      "vif is 1.5128463066951625\n"
     ]
    }
   ],
   "source": [
    "from sklearn.model_selection import train_test_split\n",
    "feature_names = ['Humidity', 'Temp_C']\n",
    "X = final[feature_names]\n",
    "y = final['rain']\n",
    "X_train, X_test, y_train, y_test = train_test_split(X, y, test_size = 0.3, random_state = 100)\n",
    "from sklearn.linear_model import LinearRegression\n",
    "model = LinearRegression()\n",
    "model.fit(X_train, y_train)\n",
    "ytest_predict = model.predict(X_test)\n",
    "from sklearn.metrics import r2_score\n",
    "r2 = r2_score(y_test, ytest_predict)\n",
    "print('r2 is', r2)\n",
    "vif = 1 / (1 - r2)\n",
    "print('vif is', vif)"
   ]
  },
  {
   "cell_type": "markdown",
   "metadata": {},
   "source": [
    "# Since the VIF for all the 3 IVs is less than 5, we will keep them"
   ]
  },
  {
   "cell_type": "markdown",
   "metadata": {},
   "source": [
    "# Applying Multiple Linear Regression"
   ]
  },
  {
   "cell_type": "code",
   "execution_count": 134,
   "metadata": {},
   "outputs": [],
   "source": [
    "names = ['Humidity', 'Temp_C', 'rain']\n",
    "X = final[names]\n",
    "y = final['App_Temp_C']\n",
    "\n",
    "from sklearn.model_selection import train_test_split \n",
    "X_train, X_test, y_train, y_test = train_test_split(X, y, test_size = 0.3, random_state = 100)\n",
    "\n",
    "from sklearn.linear_model import LinearRegression\n",
    "model = LinearRegression()\n",
    "\n",
    "model.fit(X_train, y_train)\n",
    "ytest_predict = model.predict(X_test)"
   ]
  },
  {
   "cell_type": "markdown",
   "metadata": {},
   "source": [
    "# Calculating R2, MAE, MSE and RMSE"
   ]
  },
  {
   "cell_type": "code",
   "execution_count": 114,
   "metadata": {},
   "outputs": [
    {
     "name": "stdout",
     "output_type": "stream",
     "text": [
      "R2 0.9862009724719316\n",
      "Mean Absolute Error 0.9418751625432079\n",
      "Mean Squared Error 1.5681980128532707\n",
      "Root Mean Square Error 1.2522771310110516\n"
     ]
    }
   ],
   "source": [
    "from sklearn.metrics import r2_score\n",
    "R2 = r2_score(y_test, ytest_predict)\n",
    "print('R2', R2)\n",
    "\n",
    "from sklearn.metrics import mean_absolute_error \n",
    "print('Mean Absolute Error', mean_absolute_error(y_test, ytest_predict))\n",
    "\n",
    "from sklearn.metrics import mean_squared_error\n",
    "print('Mean Squared Error', mean_squared_error(y_test, ytest_predict))\n",
    "\n",
    "from sklearn.metrics import mean_squared_error\n",
    "print('Root Mean Square Error', np.sqrt(mean_squared_error(y_test, ytest_predict)))"
   ]
  },
  {
   "cell_type": "markdown",
   "metadata": {},
   "source": [
    "# Finding training and test score"
   ]
  },
  {
   "cell_type": "code",
   "execution_count": 98,
   "metadata": {},
   "outputs": [
    {
     "name": "stdout",
     "output_type": "stream",
     "text": [
      "Training score 0.9863894140988932\n",
      "Test score 0.9862009724719316\n"
     ]
    }
   ],
   "source": [
    "print('Training score', model.score(X_train, y_train))\n",
    "print('Test score', model.score(X_test, y_test))"
   ]
  },
  {
   "cell_type": "markdown",
   "metadata": {},
   "source": [
    "# Calculating coefficients and the intercept"
   ]
  },
  {
   "cell_type": "code",
   "execution_count": 106,
   "metadata": {},
   "outputs": [
    {
     "name": "stdout",
     "output_type": "stream",
     "text": [
      "Coefficients [2.20862289 1.13855738 0.11063391]\n",
      "Intercept -4.453806834061668\n"
     ]
    }
   ],
   "source": [
    "print('Coefficients', model.coef_)\n",
    "print('Intercept', model.intercept_)"
   ]
  },
  {
   "cell_type": "markdown",
   "metadata": {},
   "source": [
    "# Regularization of the model using Cross Validation"
   ]
  },
  {
   "cell_type": "code",
   "execution_count": 109,
   "metadata": {},
   "outputs": [
    {
     "name": "stdout",
     "output_type": "stream",
     "text": [
      "Cross Validation Score 0.886048433220187\n"
     ]
    }
   ],
   "source": [
    "from sklearn.model_selection import cross_val_score\n",
    "model = LinearRegression()\n",
    "print('Cross Validation Score', cross_val_score(model, X, y, cv = 900).mean())"
   ]
  },
  {
   "cell_type": "markdown",
   "metadata": {},
   "source": [
    "# Regression Equation and prediction of App Temp"
   ]
  },
  {
   "cell_type": "code",
   "execution_count": null,
   "metadata": {},
   "outputs": [],
   "source": [
    "App_Temp_C = -4.404 + 2.194(Humidity) + 1.139(Temp_C) + 0.057(rain)\n",
    "           = -4.404 + 2.194(0.9) + 1.139(9.4) + 0.057(1)\n",
    "           = 8.347"
   ]
  },
  {
   "cell_type": "code",
   "execution_count": 118,
   "metadata": {},
   "outputs": [
    {
     "name": "stdout",
     "output_type": "stream",
     "text": [
      "App Temp is [8.34702707]\n"
     ]
    }
   ],
   "source": [
    "predict = model.predict([[0.9, 9.4, 1]])\n",
    "print('App Temp is', predict)"
   ]
  },
  {
   "cell_type": "markdown",
   "metadata": {},
   "source": [
    "# Predicting App Temp using only one IV i.e. Humidity"
   ]
  },
  {
   "cell_type": "code",
   "execution_count": 163,
   "metadata": {},
   "outputs": [
    {
     "name": "stdout",
     "output_type": "stream",
     "text": [
      "Coefficients [-32.45392542]\n",
      "Intercept 34.709806583644045\n",
      "App Temp is [5.50127371]\n"
     ]
    }
   ],
   "source": [
    "names = ['Humidity']\n",
    "X = final[names]\n",
    "y = final['App_Temp_C']\n",
    "\n",
    "from sklearn.model_selection import train_test_split \n",
    "X_train, X_test, y_train, y_test = train_test_split(X, y, test_size = 0.3, random_state = 100)\n",
    "\n",
    "from sklearn.linear_model import LinearRegression\n",
    "model = LinearRegression()\n",
    "\n",
    "model.fit(X_train, y_train)\n",
    "ytest_predict = model.predict(X_test)\n",
    "\n",
    "print('Coefficients', model.coef_)\n",
    "print('Intercept', model.intercept_)\n",
    "\n",
    "predict = model.predict([[0.9]])\n",
    "print('App Temp is', predict)"
   ]
  },
  {
   "cell_type": "markdown",
   "metadata": {},
   "source": [
    "# Linear regression using only Temp"
   ]
  },
  {
   "cell_type": "code",
   "execution_count": 181,
   "metadata": {},
   "outputs": [
    {
     "data": {
      "image/png": "[encoded data removed]",
      "text/plain": [
       "<Figure size 432x288 with 1 Axes>"
      ]
     },
     "metadata": {
      "needs_background": "light"
     },
     "output_type": "display_data"
    }
   ],
   "source": [
    "names = ['Temp_C']\n",
    "X = final[names]\n",
    "y = final['App_Temp_C']\n",
    "\n",
    "from sklearn.model_selection import train_test_split \n",
    "X_train, X_test, y_train, y_test = train_test_split(X, y, test_size = 0.3, random_state = 100)\n",
    "\n",
    "from sklearn.linear_model import LinearRegression\n",
    "model = LinearRegression()\n",
    "\n",
    "model.fit(X_train, y_train)\n",
    "ytest_predict = model.predict(X_test)\n",
    "\n",
    "plt.scatter(X_train,y_train, color='red')\n",
    "plt.plot(X_train, model.predict(X_train),color='blue')\n",
    "plt.xlabel('Temp_C')\n",
    "plt.ylabel('App_Temp_C')\n",
    "plt.show()\n"
   ]
  },
  {
   "cell_type": "code",
   "execution_count": null,
   "metadata": {},
   "outputs": [],
   "source": []
  }
 ],
 "metadata": {
  "kernelspec": {
   "display_name": "Python 3",
   "language": "python",
   "name": "python3"
  },
  "language_info": {
   "codemirror_mode": {
    "name": "ipython",
    "version": 3
   },
   "file_extension": ".py",
   "mimetype": "text/x-python",
   "name": "python",
   "nbconvert_exporter": "python",
   "pygments_lexer": "ipython3",
   "version": "3.7.3"
  }
 },
 "nbformat": 4,
 "nbformat_minor": 2
}
